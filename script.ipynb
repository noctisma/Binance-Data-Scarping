{
 "cells": [
  {
   "cell_type": "code",
   "execution_count": 133,
   "metadata": {},
   "outputs": [],
   "source": [
    "import pandas as pd\n",
    "import numpy as np\n",
    "import pyautogui\n",
    "import pyperclip\n",
    "from selenium import webdriver\n",
    "from pandas import ExcelWriter\n",
    "from pandas import ExcelFile\n",
    "import time\n",
    "import warnings\n",
    "warnings.filterwarnings(\"ignore\")"
   ]
  },
  {
   "cell_type": "code",
   "execution_count": 134,
   "metadata": {},
   "outputs": [],
   "source": [
    "data=pd.read_csv(\"urls.csv\")  "
   ]
  },
  {
   "cell_type": "code",
   "execution_count": 135,
   "metadata": {},
   "outputs": [
    {
     "data": {
      "text/html": [
       "<div>\n",
       "<style scoped>\n",
       "    .dataframe tbody tr th:only-of-type {\n",
       "        vertical-align: middle;\n",
       "    }\n",
       "\n",
       "    .dataframe tbody tr th {\n",
       "        vertical-align: top;\n",
       "    }\n",
       "\n",
       "    .dataframe thead th {\n",
       "        text-align: right;\n",
       "    }\n",
       "</style>\n",
       "<table border=\"1\" class=\"dataframe\">\n",
       "  <thead>\n",
       "    <tr style=\"text-align: right;\">\n",
       "      <th></th>\n",
       "      <th>urls</th>\n",
       "    </tr>\n",
       "  </thead>\n",
       "  <tbody>\n",
       "    <tr>\n",
       "      <th>0</th>\n",
       "      <td>https://dxsale.app/app/pages/defipresale?saleI...</td>\n",
       "    </tr>\n",
       "    <tr>\n",
       "      <th>1</th>\n",
       "      <td>https://dxsale.app/app/pages/defipresale?saleI...</td>\n",
       "    </tr>\n",
       "    <tr>\n",
       "      <th>2</th>\n",
       "      <td>https://dxsale.app/app/pages/defipresale?saleI...</td>\n",
       "    </tr>\n",
       "    <tr>\n",
       "      <th>3</th>\n",
       "      <td>https://dxsale.app/app/pages/defipresale?saleI...</td>\n",
       "    </tr>\n",
       "    <tr>\n",
       "      <th>4</th>\n",
       "      <td>https://dxsale.app/app/pages/defipresale?saleI...</td>\n",
       "    </tr>\n",
       "  </tbody>\n",
       "</table>\n",
       "</div>"
      ],
      "text/plain": [
       "                                                urls\n",
       "0  https://dxsale.app/app/pages/defipresale?saleI...\n",
       "1  https://dxsale.app/app/pages/defipresale?saleI...\n",
       "2  https://dxsale.app/app/pages/defipresale?saleI...\n",
       "3  https://dxsale.app/app/pages/defipresale?saleI...\n",
       "4  https://dxsale.app/app/pages/defipresale?saleI..."
      ]
     },
     "execution_count": 135,
     "metadata": {},
     "output_type": "execute_result"
    }
   ],
   "source": [
    "data.head()"
   ]
  },
  {
   "cell_type": "code",
   "execution_count": 136,
   "metadata": {},
   "outputs": [],
   "source": [
    "df=pd.DataFrame(np.nan, index=range(0,100), columns=['URL','Ticker','Name','Description','Presale Address','Token Address','Total Supply','Soft Cap','Hard Cap',\n",
    " 'Tokens For Presale','Presale Rate','Minimum Contribution','Maximum Contribution','Presale Start Time','Presale End Time',\n",
    " 'PancakeSwap Listing Rate','PancakeSwap Liquidity %','Liquidity Unlock Date','Description (header)','Website','Twitter','Reddit',\n",
    " 'Telegram'])"
   ]
  },
  {
   "cell_type": "code",
   "execution_count": 203,
   "metadata": {},
   "outputs": [
    {
     "name": "stdout",
     "output_type": "stream",
     "text": [
      "1\n",
      "2\n",
      "3\n",
      "4\n",
      "5\n",
      "6\n",
      "7\n",
      "8\n",
      "9\n",
      "10\n",
      "11\n",
      "12\n",
      "13\n",
      "14\n",
      "15\n",
      "16\n",
      "17\n",
      "18\n",
      "19\n",
      "20\n",
      "21\n",
      "22\n",
      "23\n",
      "24\n",
      "25\n",
      "26\n",
      "27\n",
      "28\n",
      "29\n",
      "30\n",
      "31\n",
      "32\n",
      "33\n",
      "34\n",
      "35\n",
      "36\n",
      "37\n",
      "38\n",
      "39\n",
      "40\n",
      "41\n",
      "42\n",
      "43\n",
      "44\n",
      "45\n",
      "46\n",
      "47\n",
      "48\n",
      "49\n",
      "50\n",
      "51\n",
      "52\n",
      "53\n",
      "54\n",
      "55\n",
      "56\n",
      "57\n",
      "58\n",
      "59\n",
      "60\n",
      "61\n",
      "62\n",
      "63\n",
      "64\n",
      "65\n",
      "66\n"
     ]
    }
   ],
   "source": [
    "i = 0\n",
    "for url in not_done:\n",
    "    try:\n",
    "        driver.get(url)\n",
    "        time.sleep(18)\n",
    "        \n",
    "        try:\n",
    "            name = driver.find_element_by_xpath('//*[@id=\"mainContent\"]/section/div/div/div[2]/div[2]/div/div[2]/div/div/div/div/div[2]/p').text\n",
    "        except:\n",
    "            name = None\n",
    "            pass\n",
    "        try:\n",
    "            ticker = driver.find_element_by_xpath('//*[@id=\"mainContent\"]/section/div/div/div[2]/div[2]/div/div[2]/div/div/div/div/div[2]/h2').text\n",
    "        except:\n",
    "            ticker = None\n",
    "            pass\n",
    "        try:\n",
    "            desc_upper = driver.find_element_by_css_selector('#mainContent > section > div > div > div:nth-child(3) > div:nth-child(2) > div > div.MuiGrid-root.MuiGrid-container.MuiGrid-item.MuiGrid-direction-xs-column.MuiGrid-align-items-xs-center.MuiGrid-justify-xs-center.MuiGrid-grid-xs-12.MuiGrid-grid-sm-8.MuiGrid-grid-md-8.MuiGrid-grid-lg-6.MuiGrid-grid-xl-6 > div > div > div > section > p:nth-child(1)').text\n",
    "        except:\n",
    "            desc_upper = None\n",
    "            pass\n",
    "        try:\n",
    "            presale = driver.find_element_by_xpath('//*[@id=\"mainContent\"]/section/div/div/div[2]/div[2]/div/div[2]/div/div/div/section/p[2]/a').get_attribute('href')\n",
    "        except:\n",
    "            presale = None\n",
    "            pass\n",
    "        try:\n",
    "            token = driver.find_element_by_xpath('//*[@id=\"mainContent\"]/section/div/div/div[2]/div[2]/div/div[2]/div/div/div/section/p[3]/a').get_attribute('href')\n",
    "        except:\n",
    "            token = None\n",
    "            pass\n",
    "        try:\n",
    "            total_supply = driver.find_element_by_xpath('//*[@id=\"mainContent\"]/section/div/div/div[2]/div[2]/div/div[2]/div/div/div/section/div[2]/table/tbody/tr[1]/td[2]').text\n",
    "        except:\n",
    "            total_supply = None\n",
    "            pass\n",
    "        try:\n",
    "            Soft_Cap = driver.find_element_by_xpath('//*[@id=\"mainContent\"]/section/div/div/div[2]/div[2]/div/div[2]/div/div/div/section/div[2]/table/tbody/tr[2]/td[2]').text\n",
    "        except:\n",
    "            Soft_Cap = None\n",
    "            pass\n",
    "        try:\n",
    "            hard_cap = driver.find_element_by_xpath('//*[@id=\"mainContent\"]/section/div/div/div[2]/div[2]/div/div[2]/div/div/div/section/div[2]/table/tbody/tr[3]/td[2]').text\n",
    "        except:\n",
    "            hard_cap = None\n",
    "            pass\n",
    "        try:\n",
    "            t_presale = driver.find_element_by_xpath('//*[@id=\"mainContent\"]/section/div/div/div[2]/div[2]/div/div[2]/div/div/div/section/div[2]/table/tbody/tr[4]/td[2]').text\n",
    "        except:\n",
    "            t_presale = None\n",
    "            pass\n",
    "        try:\n",
    "            presale_rate = driver.find_element_by_xpath('//*[@id=\"mainContent\"]/section/div/div/div[2]/div[2]/div/div[2]/div/div/div/section/div[2]/table/tbody/tr[5]/td[2]').text\n",
    "        except:\n",
    "            presale_rate = None\n",
    "            pass\n",
    "        try:\n",
    "            min_c = driver.find_element_by_xpath('//*[@id=\"mainContent\"]/section/div/div/div[2]/div[2]/div/div[2]/div/div/div/section/div[2]/table/tbody/tr[6]/td[2]').text\n",
    "        except:\n",
    "            min_c = None\n",
    "            pass\n",
    "        try:\n",
    "            max_c = driver.find_element_by_xpath('//*[@id=\"mainContent\"]/section/div/div/div[2]/div[2]/div/div[2]/div/div/div/section/div[2]/table/tbody/tr[7]/td[2]').text\n",
    "        except:\n",
    "            max_c = None\n",
    "            pass\n",
    "        try:\n",
    "            pStartTime = driver.find_element_by_xpath('//*[@id=\"mainContent\"]/section/div/div/div[2]/div[2]/div/div[2]/div/div/div/section/div[2]/table/tbody/tr[8]/td[2]').text\n",
    "        except:\n",
    "            pStartTime = None\n",
    "            pass\n",
    "        try:\n",
    "            pEndTime = driver.find_element_by_xpath('//*[@id=\"mainContent\"]/section/div/div/div[2]/div[2]/div/div[2]/div/div/div/section/div[2]/table/tbody/tr[9]/td[2]').text\n",
    "        except:\n",
    "            pEndTime = None\n",
    "            pass\n",
    "        try:\n",
    "            swap = driver.find_element_by_xpath('//*[@id=\"mainContent\"]/section/div/div/div[2]/div[2]/div/div[2]/div/div/div/section/div[2]/table/tbody/tr[10]/td[2]').text\n",
    "        except:\n",
    "            swap = None\n",
    "            pass\n",
    "        try:\n",
    "            percentage = driver.find_element_by_xpath('//*[@id=\"mainContent\"]/section/div/div/div[2]/div[2]/div/div[2]/div/div/div/section/div[2]/table/tbody/tr[11]/td[2]').text\n",
    "        except:\n",
    "            percentage = None\n",
    "            pass\n",
    "        try:\n",
    "            uDate = driver.find_element_by_xpath('//*[@id=\"mainContent\"]/section/div/div/div[2]/div[2]/div/div[2]/div/div/div/section/div[2]/table/tbody/tr[12]/td[2]').text\n",
    "        except:\n",
    "            uDate = None\n",
    "            pass\n",
    "        try:\n",
    "            desc = driver.find_element_by_css_selector('#mainContent > section > div > div > div:nth-child(3) > div:nth-child(1) > div:nth-child(1) > p').text\n",
    "        except:\n",
    "            desc = None\n",
    "            pass\n",
    "        try:\n",
    "            website = driver.find_element_by_xpath('//*[@id=\"mainContent\"]/section/div/div/div[2]/div[1]/div/div/div[1]/a').get_attribute('href')\n",
    "        except:\n",
    "            website = None\n",
    "            pass\n",
    "        try:\n",
    "            twitter = driver.find_element_by_xpath('//*[@id=\"mainContent\"]/section/div/div/div[2]/div[1]/div/div/div[2]/a').get_attribute('href')\n",
    "        except:\n",
    "            twitter = None\n",
    "            pass\n",
    "        try:\n",
    "            reddit = driver.find_element_by_css_selector('#mainContent > section > div > div > div:nth-child(3) > div:nth-child(1) > div > div > div:nth-child(3) > a').get_attribute('href')\n",
    "        except:\n",
    "            reddit = None\n",
    "            pass\n",
    "        try:\n",
    "            telegram = driver.find_element_by_css_selector('#mainContent > section > div > div > div:nth-child(3) > div:nth-child(1) > div > div > div:nth-child(4) > a').get_attribute('href')\n",
    "        except:\n",
    "            telegram = None\n",
    "            pass\n",
    "        \n",
    "        df.loc[:,'URL'][i] = url\n",
    "        df.loc[:,'Ticker'][i] = ticker\n",
    "        df.loc[:,'Name'][i] = name\n",
    "        df.loc[:,'Description'][i] = desc_upper\n",
    "        df.loc[:,'Presale Address'][i] = presale\n",
    "        df.loc[:,'Token Address'][i] = token\n",
    "        df.loc[:,'Total Supply'][i] = total_supply\n",
    "        df.loc[:,'Soft Cap'][i] = Soft_Cap\n",
    "        df.loc[:,'Hard Cap'][i] = hard_cap\n",
    "        df.loc[:,'Tokens For Presale'][i] = t_presale\n",
    "        df.loc[:,'Presale Rate'][i] = presale_rate\n",
    "        df.loc[:,'Minimum Contribution'][i] = min_c\n",
    "        df.loc[:,'Maximum Contribution'][i] = max_c\n",
    "        df.loc[:,'Presale Start Time'][i] = pStartTime\n",
    "        df.loc[:,'Presale End Time'][i] = pEndTime\n",
    "        df.loc[:,'PancakeSwap Listing Rate'][i] = swap\n",
    "        df.loc[:,'PancakeSwap Liquidity %'][i] = percentage\n",
    "        df.loc[:,'Liquidity Unlock Date'][i] = uDate\n",
    "        df.loc[:,'Description (header)'][i] = desc\n",
    "        df.loc[:,'Website'][i] = website\n",
    "        df.loc[:,'Twitter'][i] = twitter\n",
    "        df.loc[:,'Reddit'][i] = reddit\n",
    "        df.loc[:,'Telegram'][i] = telegram\n",
    "    except Exception as e:\n",
    "        print(e)\n",
    "        pass\n",
    "    finally:\n",
    "        i+=1\n",
    "        print(i)"
   ]
  },
  {
   "cell_type": "code",
   "execution_count": 204,
   "metadata": {},
   "outputs": [],
   "source": [
    "writer = ExcelWriter('Output File 3.xlsx')\n",
    "df.to_excel(writer,'Sheet1')\n",
    "writer.save()"
   ]
  },
  {
   "cell_type": "code",
   "execution_count": 207,
   "metadata": {},
   "outputs": [
    {
     "data": {
      "text/plain": [
       "'https://dxsale.app/app/pages/defipresale?saleID=000&chain=BSC'"
      ]
     },
     "execution_count": 207,
     "metadata": {},
     "output_type": "execute_result"
    }
   ],
   "source": [
    "not_done[-1]"
   ]
  },
  {
   "cell_type": "code",
   "execution_count": 210,
   "metadata": {},
   "outputs": [
    {
     "data": {
      "text/plain": [
       "64    https://dxsale.app/app/pages/defipresale?saleI...\n",
       "65    https://dxsale.app/app/pages/defipresale?saleI...\n",
       "66    https://dxsale.app/app/pages/defipresale?saleI...\n",
       "67    https://dxsale.app/app/pages/defipresale?saleI...\n",
       "68    https://dxsale.app/app/pages/defipresale?saleI...\n",
       "Name: URL, dtype: object"
      ]
     },
     "execution_count": 210,
     "metadata": {},
     "output_type": "execute_result"
    }
   ],
   "source": [
    "df['URL'][64:69]"
   ]
  },
  {
   "cell_type": "code",
   "execution_count": 198,
   "metadata": {},
   "outputs": [],
   "source": [
    "done = pd.read_csv('done.csv')"
   ]
  },
  {
   "cell_type": "code",
   "execution_count": 199,
   "metadata": {},
   "outputs": [
    {
     "data": {
      "text/html": [
       "<div>\n",
       "<style scoped>\n",
       "    .dataframe tbody tr th:only-of-type {\n",
       "        vertical-align: middle;\n",
       "    }\n",
       "\n",
       "    .dataframe tbody tr th {\n",
       "        vertical-align: top;\n",
       "    }\n",
       "\n",
       "    .dataframe thead th {\n",
       "        text-align: right;\n",
       "    }\n",
       "</style>\n",
       "<table border=\"1\" class=\"dataframe\">\n",
       "  <thead>\n",
       "    <tr style=\"text-align: right;\">\n",
       "      <th></th>\n",
       "      <th>URLS done</th>\n",
       "    </tr>\n",
       "  </thead>\n",
       "  <tbody>\n",
       "    <tr>\n",
       "      <th>0</th>\n",
       "      <td>https://dxsale.app/app/pages/defipresale?saleI...</td>\n",
       "    </tr>\n",
       "    <tr>\n",
       "      <th>1</th>\n",
       "      <td>https://dxsale.app/app/pages/defipresale?saleI...</td>\n",
       "    </tr>\n",
       "    <tr>\n",
       "      <th>2</th>\n",
       "      <td>https://dxsale.app/app/pages/defipresale?saleI...</td>\n",
       "    </tr>\n",
       "    <tr>\n",
       "      <th>3</th>\n",
       "      <td>https://dxsale.app/app/pages/defipresale?saleI...</td>\n",
       "    </tr>\n",
       "    <tr>\n",
       "      <th>4</th>\n",
       "      <td>https://dxsale.app/app/pages/defipresale?saleI...</td>\n",
       "    </tr>\n",
       "    <tr>\n",
       "      <th>...</th>\n",
       "      <td>...</td>\n",
       "    </tr>\n",
       "    <tr>\n",
       "      <th>195</th>\n",
       "      <td>https://dxsale.app/app/pages/defipresale?saleI...</td>\n",
       "    </tr>\n",
       "    <tr>\n",
       "      <th>196</th>\n",
       "      <td>https://dxsale.app/app/pages/defipresale?saleI...</td>\n",
       "    </tr>\n",
       "    <tr>\n",
       "      <th>197</th>\n",
       "      <td>https://dxsale.app/app/pages/defipresale?saleI...</td>\n",
       "    </tr>\n",
       "    <tr>\n",
       "      <th>198</th>\n",
       "      <td>https://dxsale.app/app/pages/defipresale?saleI...</td>\n",
       "    </tr>\n",
       "    <tr>\n",
       "      <th>199</th>\n",
       "      <td>https://dxsale.app/app/pages/defipresale?saleI...</td>\n",
       "    </tr>\n",
       "  </tbody>\n",
       "</table>\n",
       "<p>200 rows × 1 columns</p>\n",
       "</div>"
      ],
      "text/plain": [
       "                                             URLS done\n",
       "0    https://dxsale.app/app/pages/defipresale?saleI...\n",
       "1    https://dxsale.app/app/pages/defipresale?saleI...\n",
       "2    https://dxsale.app/app/pages/defipresale?saleI...\n",
       "3    https://dxsale.app/app/pages/defipresale?saleI...\n",
       "4    https://dxsale.app/app/pages/defipresale?saleI...\n",
       "..                                                 ...\n",
       "195  https://dxsale.app/app/pages/defipresale?saleI...\n",
       "196  https://dxsale.app/app/pages/defipresale?saleI...\n",
       "197  https://dxsale.app/app/pages/defipresale?saleI...\n",
       "198  https://dxsale.app/app/pages/defipresale?saleI...\n",
       "199  https://dxsale.app/app/pages/defipresale?saleI...\n",
       "\n",
       "[200 rows x 1 columns]"
      ]
     },
     "execution_count": 199,
     "metadata": {},
     "output_type": "execute_result"
    }
   ],
   "source": [
    "done"
   ]
  },
  {
   "cell_type": "code",
   "execution_count": 200,
   "metadata": {},
   "outputs": [],
   "source": [
    "not_done = []\n",
    "donee = []\n",
    "for i in range(len(data['urls'])):\n",
    "    if data['urls'][i] in done.values:\n",
    "        donee.append(data['urls'][i])\n",
    "    else:\n",
    "        not_done.append(data['urls'][i])"
   ]
  },
  {
   "cell_type": "code",
   "execution_count": 201,
   "metadata": {},
   "outputs": [
    {
     "data": {
      "text/plain": [
       "66"
      ]
     },
     "execution_count": 201,
     "metadata": {},
     "output_type": "execute_result"
    }
   ],
   "source": [
    "len(not_done)"
   ]
  },
  {
   "cell_type": "code",
   "execution_count": 202,
   "metadata": {},
   "outputs": [
    {
     "data": {
      "text/plain": [
       "200"
      ]
     },
     "execution_count": 202,
     "metadata": {},
     "output_type": "execute_result"
    }
   ],
   "source": [
    "len(donee)"
   ]
  },
  {
   "cell_type": "code",
   "execution_count": 192,
   "metadata": {},
   "outputs": [],
   "source": [
    "done2 = pd.read_csv('done2.csv')"
   ]
  },
  {
   "cell_type": "code",
   "execution_count": 195,
   "metadata": {},
   "outputs": [],
   "source": [
    "not_done = []\n",
    "donee = []\n",
    "for i in range(len(done2['urls'])):\n",
    "    if done2['urls'][i] in not_done:\n",
    "        donee.append(data['urls'][i])\n",
    "    else:\n",
    "        not_done.append(data['urls'][i])"
   ]
  },
  {
   "cell_type": "code",
   "execution_count": null,
   "metadata": {},
   "outputs": [],
   "source": []
  },
  {
   "cell_type": "code",
   "execution_count": 148,
   "metadata": {},
   "outputs": [
    {
     "data": {
      "text/html": [
       "<div>\n",
       "<style scoped>\n",
       "    .dataframe tbody tr th:only-of-type {\n",
       "        vertical-align: middle;\n",
       "    }\n",
       "\n",
       "    .dataframe tbody tr th {\n",
       "        vertical-align: top;\n",
       "    }\n",
       "\n",
       "    .dataframe thead th {\n",
       "        text-align: right;\n",
       "    }\n",
       "</style>\n",
       "<table border=\"1\" class=\"dataframe\">\n",
       "  <thead>\n",
       "    <tr style=\"text-align: right;\">\n",
       "      <th></th>\n",
       "      <th>URL</th>\n",
       "      <th>Ticker</th>\n",
       "      <th>Name</th>\n",
       "      <th>Description</th>\n",
       "      <th>Presale Address</th>\n",
       "      <th>Token Address</th>\n",
       "      <th>Total Supply</th>\n",
       "      <th>Soft Cap</th>\n",
       "      <th>Hard Cap</th>\n",
       "      <th>Tokens For Presale</th>\n",
       "      <th>...</th>\n",
       "      <th>Presale Start Time</th>\n",
       "      <th>Presale End Time</th>\n",
       "      <th>PancakeSwap Listing Rate</th>\n",
       "      <th>PancakeSwap Liquidity %</th>\n",
       "      <th>Liquidity Unlock Date</th>\n",
       "      <th>Description (header)</th>\n",
       "      <th>Website</th>\n",
       "      <th>Twitter</th>\n",
       "      <th>Reddit</th>\n",
       "      <th>Telegram</th>\n",
       "    </tr>\n",
       "  </thead>\n",
       "  <tbody>\n",
       "    <tr>\n",
       "      <th>90</th>\n",
       "      <td>https://dxsale.app/app/pages/defipresale?saleI...</td>\n",
       "      <td>MOONLANDER</td>\n",
       "      <td>MoonLander</td>\n",
       "      <td></td>\n",
       "      <td>https://bscscan.com/address/0x9428874897c6EfC7...</td>\n",
       "      <td>https://bscscan.com/address/0x1b17354faB0b9be4...</td>\n",
       "      <td>10000000000000.0000 MOONLANDER</td>\n",
       "      <td>20 BNB</td>\n",
       "      <td>40 BNB</td>\n",
       "      <td>4000000000000.0000 MOONLANDER</td>\n",
       "      <td>...</td>\n",
       "      <td>27 Mar 2021 at 23:38</td>\n",
       "      <td>29 Mar 2021 at 00:30</td>\n",
       "      <td>200000000000.0000 MOONLANDER per BNB</td>\n",
       "      <td>51.0</td>\n",
       "      <td>30 Apr 2021 at 00:30</td>\n",
       "      <td>Latest Update: MoonLander token set to release...</td>\n",
       "      <td>https://moonlandertoken.com/</td>\n",
       "      <td>https://twitter.com/MoonLanderToken</td>\n",
       "      <td>https://t.me/joinchat/4zZYZ1L4mY43MmM8</td>\n",
       "      <td>None</td>\n",
       "    </tr>\n",
       "    <tr>\n",
       "      <th>91</th>\n",
       "      <td>https://dxsale.app/app/pages/defipresale?saleI...</td>\n",
       "      <td>BP</td>\n",
       "      <td>Blitzkrieg Protocol</td>\n",
       "      <td>This is a retro style DeFi project aiming for ...</td>\n",
       "      <td>https://bscscan.com/address/0x0B84b8eD9FD406d1...</td>\n",
       "      <td>https://bscscan.com/address/0x2b2f3FAc028e95aF...</td>\n",
       "      <td>1000000000000000.0000 BP</td>\n",
       "      <td>50 BNB</td>\n",
       "      <td>500 BNB</td>\n",
       "      <td>1500000000000000.0000 BP</td>\n",
       "      <td>...</td>\n",
       "      <td>27 Mar 2021 at 22:30</td>\n",
       "      <td>29 Mar 2021 at 22:29</td>\n",
       "      <td>1000000000000.0000 BP per BNB</td>\n",
       "      <td>75.0</td>\n",
       "      <td>29 Apr 2021 at 09:29</td>\n",
       "      <td>Latest Update: We are recruiting Community Man...</td>\n",
       "      <td>https://bkprotocol.xyz/</td>\n",
       "      <td>https://twitter.com/BKGProtocol</td>\n",
       "      <td>https://t.me/blitzkriegprotocol</td>\n",
       "      <td>None</td>\n",
       "    </tr>\n",
       "    <tr>\n",
       "      <th>92</th>\n",
       "      <td>https://dxsale.app/app/pages/defipresale?saleI...</td>\n",
       "      <td>UDG</td>\n",
       "      <td>Undead Gragon</td>\n",
       "      <td></td>\n",
       "      <td>https://bscscan.com/address/0x32FdF4F9c4270398...</td>\n",
       "      <td>https://bscscan.com/address/0xCCbE92c0B854a13e...</td>\n",
       "      <td>2000000000000.0000 UDG</td>\n",
       "      <td>20 BNB</td>\n",
       "      <td>50 BNB</td>\n",
       "      <td>1000000000000.0000 UDG</td>\n",
       "      <td>...</td>\n",
       "      <td>27 Mar 2021 at 22:15</td>\n",
       "      <td>28 Mar 2021 at 12:53</td>\n",
       "      <td>8000000000.0000 UDG per BNB</td>\n",
       "      <td>85.0</td>\n",
       "      <td>31 May 2021 at 23:53</td>\n",
       "      <td>Latest Update: Fair Launch</td>\n",
       "      <td>None</td>\n",
       "      <td>None</td>\n",
       "      <td>None</td>\n",
       "      <td>None</td>\n",
       "    </tr>\n",
       "    <tr>\n",
       "      <th>93</th>\n",
       "      <td>https://dxsale.app/app/pages/defipresale?saleI...</td>\n",
       "      <td>AstroGirl</td>\n",
       "      <td>AstroGirl</td>\n",
       "      <td>Yield token on Binance smart chain</td>\n",
       "      <td>https://bscscan.com/address/0x773FaA0017B05288...</td>\n",
       "      <td>https://bscscan.com/address/0xF02f1536D3346317...</td>\n",
       "      <td>980783601.3482 AstroGirl</td>\n",
       "      <td>50 BNB</td>\n",
       "      <td>100 BNB</td>\n",
       "      <td>400000000.0000 AstroGirl</td>\n",
       "      <td>...</td>\n",
       "      <td>28 Mar 2021 at 00:00</td>\n",
       "      <td>28 Mar 2021 at 21:39</td>\n",
       "      <td>2500000.0000 AstroGirl per BNB</td>\n",
       "      <td>80.0</td>\n",
       "      <td>22 Jun 2021 at 21:39</td>\n",
       "      <td>None</td>\n",
       "      <td>https://astrogirlmoney.xyz/</td>\n",
       "      <td>https://t.me/astrogirlmoney</td>\n",
       "      <td>None</td>\n",
       "      <td>None</td>\n",
       "    </tr>\n",
       "    <tr>\n",
       "      <th>94</th>\n",
       "      <td>https://dxsale.app/app/pages/defipresale?saleI...</td>\n",
       "      <td>MOONBLAST</td>\n",
       "      <td>MoonBlast</td>\n",
       "      <td>MOONBLAST!! A High-Yield Frictionless Farming ...</td>\n",
       "      <td>https://bscscan.com/address/0x0224A0eA564F3823...</td>\n",
       "      <td>https://bscscan.com/address/0xc6fb9183D5DCd42F...</td>\n",
       "      <td>1000000000000000.0000 MOONBLAST</td>\n",
       "      <td>40 BNB</td>\n",
       "      <td>400 BNB</td>\n",
       "      <td>400000000000000.0000 MOONBLAST</td>\n",
       "      <td>...</td>\n",
       "      <td>27 Mar 2021 at 22:29</td>\n",
       "      <td>28 Mar 2021 at 22:29</td>\n",
       "      <td>600000000000.0000 MOONBLAST per BNB</td>\n",
       "      <td>90.0</td>\n",
       "      <td>27 Mar 2025 at 10:30</td>\n",
       "      <td>None</td>\n",
       "      <td>https://moonblast.xyz/</td>\n",
       "      <td>https://twitter.com/MoonBlastToken</td>\n",
       "      <td>https://t.me/moonblastg</td>\n",
       "      <td>None</td>\n",
       "    </tr>\n",
       "    <tr>\n",
       "      <th>95</th>\n",
       "      <td>https://dxsale.app/app/pages/defipresale?saleI...</td>\n",
       "      <td>SAFEGRUMPY</td>\n",
       "      <td>SafeGrumpy</td>\n",
       "      <td>PRESALE CANCELLED: NEW PRESALE: https://dxsale...</td>\n",
       "      <td>https://bscscan.com/address/0x7180F939Ed796b8E...</td>\n",
       "      <td>https://bscscan.com/address/0xE688b3D72f8DcfEF...</td>\n",
       "      <td>1000000000000000.0000 SAFEGRUMPY</td>\n",
       "      <td>30 BNB</td>\n",
       "      <td>300 BNB</td>\n",
       "      <td>420000000000000.0000 SAFEGRUMPY</td>\n",
       "      <td>...</td>\n",
       "      <td>27 Mar 2021 at 21:00</td>\n",
       "      <td>29 Mar 2021 at 21:00</td>\n",
       "      <td>1500000000000.0000 SAFEGRUMPY per BNB</td>\n",
       "      <td>95.0</td>\n",
       "      <td>1 Jan 2100 at 20:29</td>\n",
       "      <td>Latest Update: PRESALE CANCELLED: NEW PRESALE ...</td>\n",
       "      <td>https://safe-grumpy.surge.sh/</td>\n",
       "      <td>https://t.me/safe_grumpy</td>\n",
       "      <td>None</td>\n",
       "      <td>None</td>\n",
       "    </tr>\n",
       "    <tr>\n",
       "      <th>96</th>\n",
       "      <td>https://dxsale.app/app/pages/defipresale?saleI...</td>\n",
       "      <td>SAINT</td>\n",
       "      <td>SodaGammaMeerkatEgodWowV69</td>\n",
       "      <td></td>\n",
       "      <td>https://bscscan.com/address/0xAF49260c4b68bE80...</td>\n",
       "      <td>https://bscscan.com/address/0x547388f6EA5CA99E...</td>\n",
       "      <td>69.0000 SAINT</td>\n",
       "      <td>11 BNB</td>\n",
       "      <td>33 BNB</td>\n",
       "      <td>33.0000 SAINT</td>\n",
       "      <td>...</td>\n",
       "      <td>27 Mar 2021 at 20:36</td>\n",
       "      <td>28 Mar 2021 at 20:36</td>\n",
       "      <td>1.0000 SAINT per BNB</td>\n",
       "      <td>95.0</td>\n",
       "      <td>31 Dec 2099 at 21:36</td>\n",
       "      <td>None</td>\n",
       "      <td>None</td>\n",
       "      <td>None</td>\n",
       "      <td>None</td>\n",
       "      <td>None</td>\n",
       "    </tr>\n",
       "    <tr>\n",
       "      <th>97</th>\n",
       "      <td>https://dxsale.app/app/pages/defipresale?saleI...</td>\n",
       "      <td>SAFESKY</td>\n",
       "      <td>Safe Sky</td>\n",
       "      <td>The SafeSky protocol is a community driven, fa...</td>\n",
       "      <td>https://bscscan.com/address/0x98817b388c4A3446...</td>\n",
       "      <td>https://bscscan.com/address/0xd311309025Cb81ED...</td>\n",
       "      <td>1000000000000000.0000 SAFESKY</td>\n",
       "      <td>20 BNB</td>\n",
       "      <td>100 BNB</td>\n",
       "      <td>400000000000000.0000 SAFESKY</td>\n",
       "      <td>...</td>\n",
       "      <td>27 Mar 2021 at 21:00</td>\n",
       "      <td>27 Mar 2021 at 22:00</td>\n",
       "      <td>2500000000000.0000 SAFESKY per BNB</td>\n",
       "      <td>90.0</td>\n",
       "      <td>27 Sep 2021 at 21:14</td>\n",
       "      <td>None</td>\n",
       "      <td>https://safesky.xyz/</td>\n",
       "      <td>https://t.me/safeskyz</td>\n",
       "      <td>None</td>\n",
       "      <td>None</td>\n",
       "    </tr>\n",
       "    <tr>\n",
       "      <th>98</th>\n",
       "      <td>https://dxsale.app/app/pages/defipresale?saleI...</td>\n",
       "      <td>ArmStrong</td>\n",
       "      <td>ArmStrong</td>\n",
       "      <td>Let's all go to the moon with the man that has...</td>\n",
       "      <td>https://bscscan.com/address/0x0b138CaB67102762...</td>\n",
       "      <td>https://bscscan.com/address/0x1E1d5321cF81889E...</td>\n",
       "      <td>1000000000000000.0000 ArmStrong</td>\n",
       "      <td>50 BNB</td>\n",
       "      <td>200 BNB</td>\n",
       "      <td>400000000000000.0000 ArmStrong</td>\n",
       "      <td>...</td>\n",
       "      <td>27 Mar 2021 at 19:50</td>\n",
       "      <td>28 Mar 2021 at 19:30</td>\n",
       "      <td>1250000000000.0000 ArmStrong per BNB</td>\n",
       "      <td>90.0</td>\n",
       "      <td>31 Dec 2021 at 19:26</td>\n",
       "      <td>None</td>\n",
       "      <td>None</td>\n",
       "      <td>None</td>\n",
       "      <td>None</td>\n",
       "      <td>None</td>\n",
       "    </tr>\n",
       "    <tr>\n",
       "      <th>99</th>\n",
       "      <td>https://dxsale.app/app/pages/defipresale?saleI...</td>\n",
       "      <td>NST</td>\n",
       "      <td>NftStarter</td>\n",
       "      <td>Next-Generation Ecosystem for #NFT on Binance ...</td>\n",
       "      <td>https://bscscan.com/address/0xDF3735B0a12A79b4...</td>\n",
       "      <td>https://bscscan.com/address/0x4C9013313aA6be26...</td>\n",
       "      <td>100000000.0000 NST</td>\n",
       "      <td>25 BNB</td>\n",
       "      <td>250 BNB</td>\n",
       "      <td>25000000.0000 NST</td>\n",
       "      <td>...</td>\n",
       "      <td>27 Mar 2021 at 19:45</td>\n",
       "      <td>29 Mar 2021 at 19:07</td>\n",
       "      <td>50000.0000 NST per BNB</td>\n",
       "      <td>80.0</td>\n",
       "      <td>1 Jul 2021 at 19:07</td>\n",
       "      <td>None</td>\n",
       "      <td>http://www.nftstarter.xyz/</td>\n",
       "      <td>https://twitter.com/HeidiTh09108293</td>\n",
       "      <td>https://t.me/NFTStarterOfficial</td>\n",
       "      <td>None</td>\n",
       "    </tr>\n",
       "  </tbody>\n",
       "</table>\n",
       "<p>10 rows × 23 columns</p>\n",
       "</div>"
      ],
      "text/plain": [
       "                                                  URL      Ticker  \\\n",
       "90  https://dxsale.app/app/pages/defipresale?saleI...  MOONLANDER   \n",
       "91  https://dxsale.app/app/pages/defipresale?saleI...          BP   \n",
       "92  https://dxsale.app/app/pages/defipresale?saleI...         UDG   \n",
       "93  https://dxsale.app/app/pages/defipresale?saleI...   AstroGirl   \n",
       "94  https://dxsale.app/app/pages/defipresale?saleI...   MOONBLAST   \n",
       "95  https://dxsale.app/app/pages/defipresale?saleI...  SAFEGRUMPY   \n",
       "96  https://dxsale.app/app/pages/defipresale?saleI...       SAINT   \n",
       "97  https://dxsale.app/app/pages/defipresale?saleI...     SAFESKY   \n",
       "98  https://dxsale.app/app/pages/defipresale?saleI...   ArmStrong   \n",
       "99  https://dxsale.app/app/pages/defipresale?saleI...         NST   \n",
       "\n",
       "                          Name  \\\n",
       "90                  MoonLander   \n",
       "91         Blitzkrieg Protocol   \n",
       "92               Undead Gragon   \n",
       "93                   AstroGirl   \n",
       "94                   MoonBlast   \n",
       "95                  SafeGrumpy   \n",
       "96  SodaGammaMeerkatEgodWowV69   \n",
       "97                    Safe Sky   \n",
       "98                   ArmStrong   \n",
       "99                  NftStarter   \n",
       "\n",
       "                                          Description  \\\n",
       "90                                                      \n",
       "91  This is a retro style DeFi project aiming for ...   \n",
       "92                                                      \n",
       "93                 Yield token on Binance smart chain   \n",
       "94  MOONBLAST!! A High-Yield Frictionless Farming ...   \n",
       "95  PRESALE CANCELLED: NEW PRESALE: https://dxsale...   \n",
       "96                                                      \n",
       "97  The SafeSky protocol is a community driven, fa...   \n",
       "98  Let's all go to the moon with the man that has...   \n",
       "99  Next-Generation Ecosystem for #NFT on Binance ...   \n",
       "\n",
       "                                      Presale Address  \\\n",
       "90  https://bscscan.com/address/0x9428874897c6EfC7...   \n",
       "91  https://bscscan.com/address/0x0B84b8eD9FD406d1...   \n",
       "92  https://bscscan.com/address/0x32FdF4F9c4270398...   \n",
       "93  https://bscscan.com/address/0x773FaA0017B05288...   \n",
       "94  https://bscscan.com/address/0x0224A0eA564F3823...   \n",
       "95  https://bscscan.com/address/0x7180F939Ed796b8E...   \n",
       "96  https://bscscan.com/address/0xAF49260c4b68bE80...   \n",
       "97  https://bscscan.com/address/0x98817b388c4A3446...   \n",
       "98  https://bscscan.com/address/0x0b138CaB67102762...   \n",
       "99  https://bscscan.com/address/0xDF3735B0a12A79b4...   \n",
       "\n",
       "                                        Token Address  \\\n",
       "90  https://bscscan.com/address/0x1b17354faB0b9be4...   \n",
       "91  https://bscscan.com/address/0x2b2f3FAc028e95aF...   \n",
       "92  https://bscscan.com/address/0xCCbE92c0B854a13e...   \n",
       "93  https://bscscan.com/address/0xF02f1536D3346317...   \n",
       "94  https://bscscan.com/address/0xc6fb9183D5DCd42F...   \n",
       "95  https://bscscan.com/address/0xE688b3D72f8DcfEF...   \n",
       "96  https://bscscan.com/address/0x547388f6EA5CA99E...   \n",
       "97  https://bscscan.com/address/0xd311309025Cb81ED...   \n",
       "98  https://bscscan.com/address/0x1E1d5321cF81889E...   \n",
       "99  https://bscscan.com/address/0x4C9013313aA6be26...   \n",
       "\n",
       "                        Total Supply Soft Cap Hard Cap  \\\n",
       "90    10000000000000.0000 MOONLANDER   20 BNB   40 BNB   \n",
       "91          1000000000000000.0000 BP   50 BNB  500 BNB   \n",
       "92            2000000000000.0000 UDG   20 BNB   50 BNB   \n",
       "93          980783601.3482 AstroGirl   50 BNB  100 BNB   \n",
       "94   1000000000000000.0000 MOONBLAST   40 BNB  400 BNB   \n",
       "95  1000000000000000.0000 SAFEGRUMPY   30 BNB  300 BNB   \n",
       "96                     69.0000 SAINT   11 BNB   33 BNB   \n",
       "97     1000000000000000.0000 SAFESKY   20 BNB  100 BNB   \n",
       "98   1000000000000000.0000 ArmStrong   50 BNB  200 BNB   \n",
       "99                100000000.0000 NST   25 BNB  250 BNB   \n",
       "\n",
       "                 Tokens For Presale  ...    Presale Start Time  \\\n",
       "90    4000000000000.0000 MOONLANDER  ...  27 Mar 2021 at 23:38   \n",
       "91         1500000000000000.0000 BP  ...  27 Mar 2021 at 22:30   \n",
       "92           1000000000000.0000 UDG  ...  27 Mar 2021 at 22:15   \n",
       "93         400000000.0000 AstroGirl  ...  28 Mar 2021 at 00:00   \n",
       "94   400000000000000.0000 MOONBLAST  ...  27 Mar 2021 at 22:29   \n",
       "95  420000000000000.0000 SAFEGRUMPY  ...  27 Mar 2021 at 21:00   \n",
       "96                    33.0000 SAINT  ...  27 Mar 2021 at 20:36   \n",
       "97     400000000000000.0000 SAFESKY  ...  27 Mar 2021 at 21:00   \n",
       "98   400000000000000.0000 ArmStrong  ...  27 Mar 2021 at 19:50   \n",
       "99                25000000.0000 NST  ...  27 Mar 2021 at 19:45   \n",
       "\n",
       "        Presale End Time               PancakeSwap Listing Rate  \\\n",
       "90  29 Mar 2021 at 00:30   200000000000.0000 MOONLANDER per BNB   \n",
       "91  29 Mar 2021 at 22:29          1000000000000.0000 BP per BNB   \n",
       "92  28 Mar 2021 at 12:53            8000000000.0000 UDG per BNB   \n",
       "93  28 Mar 2021 at 21:39         2500000.0000 AstroGirl per BNB   \n",
       "94  28 Mar 2021 at 22:29    600000000000.0000 MOONBLAST per BNB   \n",
       "95  29 Mar 2021 at 21:00  1500000000000.0000 SAFEGRUMPY per BNB   \n",
       "96  28 Mar 2021 at 20:36                   1.0000 SAINT per BNB   \n",
       "97  27 Mar 2021 at 22:00     2500000000000.0000 SAFESKY per BNB   \n",
       "98  28 Mar 2021 at 19:30   1250000000000.0000 ArmStrong per BNB   \n",
       "99  29 Mar 2021 at 19:07                 50000.0000 NST per BNB   \n",
       "\n",
       "   PancakeSwap Liquidity % Liquidity Unlock Date  \\\n",
       "90                    51.0  30 Apr 2021 at 00:30   \n",
       "91                    75.0  29 Apr 2021 at 09:29   \n",
       "92                    85.0  31 May 2021 at 23:53   \n",
       "93                    80.0  22 Jun 2021 at 21:39   \n",
       "94                    90.0  27 Mar 2025 at 10:30   \n",
       "95                    95.0   1 Jan 2100 at 20:29   \n",
       "96                    95.0  31 Dec 2099 at 21:36   \n",
       "97                    90.0  27 Sep 2021 at 21:14   \n",
       "98                    90.0  31 Dec 2021 at 19:26   \n",
       "99                    80.0   1 Jul 2021 at 19:07   \n",
       "\n",
       "                                 Description (header)  \\\n",
       "90  Latest Update: MoonLander token set to release...   \n",
       "91  Latest Update: We are recruiting Community Man...   \n",
       "92                         Latest Update: Fair Launch   \n",
       "93                                               None   \n",
       "94                                               None   \n",
       "95  Latest Update: PRESALE CANCELLED: NEW PRESALE ...   \n",
       "96                                               None   \n",
       "97                                               None   \n",
       "98                                               None   \n",
       "99                                               None   \n",
       "\n",
       "                          Website                              Twitter  \\\n",
       "90   https://moonlandertoken.com/  https://twitter.com/MoonLanderToken   \n",
       "91        https://bkprotocol.xyz/      https://twitter.com/BKGProtocol   \n",
       "92                           None                                 None   \n",
       "93    https://astrogirlmoney.xyz/          https://t.me/astrogirlmoney   \n",
       "94         https://moonblast.xyz/   https://twitter.com/MoonBlastToken   \n",
       "95  https://safe-grumpy.surge.sh/             https://t.me/safe_grumpy   \n",
       "96                           None                                 None   \n",
       "97           https://safesky.xyz/                https://t.me/safeskyz   \n",
       "98                           None                                 None   \n",
       "99     http://www.nftstarter.xyz/  https://twitter.com/HeidiTh09108293   \n",
       "\n",
       "                                    Reddit Telegram  \n",
       "90  https://t.me/joinchat/4zZYZ1L4mY43MmM8     None  \n",
       "91         https://t.me/blitzkriegprotocol     None  \n",
       "92                                    None     None  \n",
       "93                                    None     None  \n",
       "94                 https://t.me/moonblastg     None  \n",
       "95                                    None     None  \n",
       "96                                    None     None  \n",
       "97                                    None     None  \n",
       "98                                    None     None  \n",
       "99         https://t.me/NFTStarterOfficial     None  \n",
       "\n",
       "[10 rows x 23 columns]"
      ]
     },
     "execution_count": 148,
     "metadata": {},
     "output_type": "execute_result"
    }
   ],
   "source": [
    "df.loc[90:119,:]"
   ]
  },
  {
   "cell_type": "code",
   "execution_count": null,
   "metadata": {},
   "outputs": [],
   "source": []
  },
  {
   "cell_type": "code",
   "execution_count": 149,
   "metadata": {},
   "outputs": [
    {
     "name": "stdout",
     "output_type": "stream",
     "text": [
      "266\n"
     ]
    }
   ],
   "source": [
    "print(i)+"
   ]
  },
  {
   "cell_type": "code",
   "execution_count": null,
   "metadata": {},
   "outputs": [],
   "source": []
  },
  {
   "cell_type": "code",
   "execution_count": null,
   "metadata": {},
   "outputs": [],
   "source": []
  },
  {
   "cell_type": "code",
   "execution_count": null,
   "metadata": {},
   "outputs": [],
   "source": []
  },
  {
   "cell_type": "code",
   "execution_count": null,
   "metadata": {},
   "outputs": [],
   "source": [
    "['URL','Ticker','Name','Description','Presale Address','Token Address','Total Supply','Soft Cap','Hard Cap',\n",
    " 'Tokens For Presale','Presale Rate','Minimum Contribution','Maximum Contribution','Presale Start Time','Presale End Time',\n",
    " 'PancakeSwap Listing Rate','PancakeSwap Liquidity %','Liquidity Unlock Date','Description (header)','Website','Twitter','Reddit',\n",
    " 'Telegram']"
   ]
  },
  {
   "cell_type": "code",
   "execution_count": 130,
   "metadata": {},
   "outputs": [
    {
     "data": {
      "text/plain": [
       "'https://wolfmoon100x.wixsite.com/home'"
      ]
     },
     "execution_count": 130,
     "metadata": {},
     "output_type": "execute_result"
    }
   ],
   "source": [
    "driver.find_element_by_css_selector('#mainContent > section > div > div > div:nth-child(3) > div:nth-child(1) > div > div > div:nth-child(1) > a').get_attribute('href')"
   ]
  },
  {
   "cell_type": "code",
   "execution_count": 164,
   "metadata": {},
   "outputs": [
    {
     "data": {
      "text/plain": [
       "'https://dxsale.app/app/pages/defipresale?saleID=167&chain=BSC'"
      ]
     },
     "execution_count": 164,
     "metadata": {},
     "output_type": "execute_result"
    }
   ],
   "source": [
    "not_done[0]"
   ]
  },
  {
   "cell_type": "code",
   "execution_count": 163,
   "metadata": {},
   "outputs": [],
   "source": [
    "driver=webdriver.Chrome() "
   ]
  },
  {
   "cell_type": "code",
   "execution_count": 166,
   "metadata": {},
   "outputs": [],
   "source": [
    "driver.get(not_done[1])"
   ]
  },
  {
   "cell_type": "code",
   "execution_count": 35,
   "metadata": {},
   "outputs": [],
   "source": [
    "driver.switch_to.window(driver.window_handles[1])"
   ]
  },
  {
   "cell_type": "code",
   "execution_count": 39,
   "metadata": {},
   "outputs": [],
   "source": [
    "name = driver.find_element_by_xpath('//*[@id=\"mainContent\"]/section/div/div/div[2]/div[2]/div/div[2]/div/div/div/div/div[2]/p').text"
   ]
  },
  {
   "cell_type": "code",
   "execution_count": 42,
   "metadata": {},
   "outputs": [],
   "source": [
    "ticker = driver.find_element_by_xpath('//*[@id=\"mainContent\"]/section/div/div/div[2]/div[2]/div/div[2]/div/div/div/div/div[2]/h2').text"
   ]
  },
  {
   "cell_type": "code",
   "execution_count": 58,
   "metadata": {},
   "outputs": [
    {
     "data": {
      "text/plain": [
       "'https://bscscan.com/address/0x801C0ea6b49E3c7a4fc370F972245D4480ABA1e2'"
      ]
     },
     "execution_count": 58,
     "metadata": {},
     "output_type": "execute_result"
    }
   ],
   "source": [
    "presale = driver.find_element_by_xpath('//*[@id=\"mainContent\"]/section/div/div/div[2]/div[2]/div/div[2]/div/div/div/section/p[2]/a').get_attribute('href')"
   ]
  },
  {
   "cell_type": "code",
   "execution_count": 59,
   "metadata": {},
   "outputs": [
    {
     "data": {
      "text/plain": [
       "'https://bscscan.com/address/0xd93135Cd72934d7dc0D5358400E3eA1081493e83'"
      ]
     },
     "execution_count": 59,
     "metadata": {},
     "output_type": "execute_result"
    }
   ],
   "source": [
    "token = driver.find_element_by_xpath('//*[@id=\"mainContent\"]/section/div/div/div[2]/div[2]/div/div[2]/div/div/div/section/p[3]/a').get_attribute('href')"
   ]
  },
  {
   "cell_type": "code",
   "execution_count": 60,
   "metadata": {},
   "outputs": [],
   "source": [
    "total_supply = driver.find_element_by_xpath('//*[@id=\"mainContent\"]/section/div/div/div[2]/div[2]/div/div[2]/div/div/div/section/div[2]/table/tbody/tr[1]/td[2]').text"
   ]
  },
  {
   "cell_type": "code",
   "execution_count": 62,
   "metadata": {},
   "outputs": [],
   "source": [
    "Soft_Cap = driver.find_element_by_xpath('//*[@id=\"mainContent\"]/section/div/div/div[2]/div[2]/div/div[2]/div/div/div/section/div[2]/table/tbody/tr[2]/td[2]').text"
   ]
  },
  {
   "cell_type": "code",
   "execution_count": 64,
   "metadata": {},
   "outputs": [],
   "source": [
    "hard_cap = driver.find_element_by_xpath('//*[@id=\"mainContent\"]/section/div/div/div[2]/div[2]/div/div[2]/div/div/div/section/div[2]/table/tbody/tr[3]/td[2]').text"
   ]
  },
  {
   "cell_type": "code",
   "execution_count": 66,
   "metadata": {},
   "outputs": [],
   "source": [
    "t_presale = driver.find_element_by_xpath('//*[@id=\"mainContent\"]/section/div/div/div[2]/div[2]/div/div[2]/div/div/div/section/div[2]/table/tbody/tr[4]/td[2]').text"
   ]
  },
  {
   "cell_type": "code",
   "execution_count": 68,
   "metadata": {},
   "outputs": [],
   "source": [
    "presale_rate = driver.find_element_by_xpath('//*[@id=\"mainContent\"]/section/div/div/div[2]/div[2]/div/div[2]/div/div/div/section/div[2]/table/tbody/tr[5]/td[2]').text"
   ]
  },
  {
   "cell_type": "code",
   "execution_count": 71,
   "metadata": {},
   "outputs": [],
   "source": [
    "min_c = driver.find_element_by_xpath('//*[@id=\"mainContent\"]/section/div/div/div[2]/div[2]/div/div[2]/div/div/div/section/div[2]/table/tbody/tr[6]/td[2]').text"
   ]
  },
  {
   "cell_type": "code",
   "execution_count": 72,
   "metadata": {},
   "outputs": [],
   "source": [
    "max_c = driver.find_element_by_xpath('//*[@id=\"mainContent\"]/section/div/div/div[2]/div[2]/div/div[2]/div/div/div/section/div[2]/table/tbody/tr[7]/td[2]').text"
   ]
  },
  {
   "cell_type": "code",
   "execution_count": 74,
   "metadata": {},
   "outputs": [],
   "source": [
    "pStartTime = driver.find_element_by_xpath('//*[@id=\"mainContent\"]/section/div/div/div[2]/div[2]/div/div[2]/div/div/div/section/div[2]/table/tbody/tr[8]/td[2]').text"
   ]
  },
  {
   "cell_type": "code",
   "execution_count": 76,
   "metadata": {},
   "outputs": [],
   "source": [
    "pEndTime = driver.find_element_by_xpath('//*[@id=\"mainContent\"]/section/div/div/div[2]/div[2]/div/div[2]/div/div/div/section/div[2]/table/tbody/tr[9]/td[2]').text"
   ]
  },
  {
   "cell_type": "code",
   "execution_count": 78,
   "metadata": {},
   "outputs": [],
   "source": [
    "swap = driver.find_element_by_xpath('//*[@id=\"mainContent\"]/section/div/div/div[2]/div[2]/div/div[2]/div/div/div/section/div[2]/table/tbody/tr[10]/td[2]').text"
   ]
  },
  {
   "cell_type": "code",
   "execution_count": 82,
   "metadata": {},
   "outputs": [],
   "source": [
    "percentage = driver.find_element_by_xpath('//*[@id=\"mainContent\"]/section/div/div/div[2]/div[2]/div/div[2]/div/div/div/section/div[2]/table/tbody/tr[11]/td[2]').text"
   ]
  },
  {
   "cell_type": "code",
   "execution_count": 84,
   "metadata": {},
   "outputs": [],
   "source": [
    "uDate = driver.find_element_by_xpath('//*[@id=\"mainContent\"]/section/div/div/div[2]/div[2]/div/div[2]/div/div/div/section/div[2]/table/tbody/tr[12]/td[2]').text"
   ]
  },
  {
   "cell_type": "code",
   "execution_count": null,
   "metadata": {},
   "outputs": [],
   "source": [
    "desc = driver.find_element_by_xpath('//*[@id=\"mainContent\"]/section/div/div/div[2]/div[2]/div/div[2]/div/div/div/section/div[1]/div/div/p').text"
   ]
  },
  {
   "cell_type": "code",
   "execution_count": 88,
   "metadata": {},
   "outputs": [],
   "source": [
    "website = driver.find_element_by_xpath('//*[@id=\"mainContent\"]/section/div/div/div[2]/div[1]/div/div/div[1]/a/i').get_attribute('href')"
   ]
  },
  {
   "cell_type": "code",
   "execution_count": 92,
   "metadata": {},
   "outputs": [],
   "source": [
    "twitter = driver.find_element_by_xpath('//*[@id=\"mainContent\"]/section/div/div/div[2]/div[1]/div/div/div[2]/a/i').get_attribute('href')"
   ]
  },
  {
   "cell_type": "code",
   "execution_count": 94,
   "metadata": {},
   "outputs": [],
   "source": [
    "telegram = driver.find_element_by_xpath('//*[@id=\"mainContent\"]/section/div/div/div[2]/div[1]/div/div/div[3]/a/i').get_attribute('href')"
   ]
  },
  {
   "cell_type": "code",
   "execution_count": null,
   "metadata": {},
   "outputs": [],
   "source": []
  },
  {
   "cell_type": "code",
   "execution_count": null,
   "metadata": {},
   "outputs": [],
   "source": []
  },
  {
   "cell_type": "code",
   "execution_count": null,
   "metadata": {},
   "outputs": [],
   "source": []
  },
  {
   "cell_type": "code",
   "execution_count": null,
   "metadata": {},
   "outputs": [],
   "source": []
  }
 ],
 "metadata": {
  "kernelspec": {
   "display_name": "Python 3",
   "language": "python",
   "name": "python3"
  },
  "language_info": {
   "codemirror_mode": {
    "name": "ipython",
    "version": 3
   },
   "file_extension": ".py",
   "mimetype": "text/x-python",
   "name": "python",
   "nbconvert_exporter": "python",
   "pygments_lexer": "ipython3",
   "version": "3.7.9"
  }
 },
 "nbformat": 4,
 "nbformat_minor": 4
}
